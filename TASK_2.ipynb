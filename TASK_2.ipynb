{
  "nbformat": 4,
  "nbformat_minor": 0,
  "metadata": {
    "colab": {
      "provenance": []
    },
    "kernelspec": {
      "name": "python3",
      "display_name": "Python 3"
    },
    "language_info": {
      "name": "python"
    }
  },
  "cells": [
    {
      "cell_type": "code",
      "execution_count": null,
      "metadata": {
        "id": "JVKP_09x_5cq"
      },
      "outputs": [],
      "source": [
        "import os\n",
        "import requests\n",
        "import re\n",
        "from bs4 import BeautifulSoup\n",
        "import sys\n",
        "\n",
        "# Function to get the HTML source text of the Medium article\n",
        "def get_page():\n",
        "    global url\n",
        "\n",
        "    # Ask the user to input the URL of a Medium article\n",
        "    url = input(\"Enter URL of a Medium article: \")\n",
        "\n",
        "    # Handling possible error\n",
        "    if not re.match(r'https?://medium.com/', url):\n",
        "        print('Please enter a valid Medium article URL.')\n",
        "        sys.exit(1)\n",
        "\n",
        "    # Add a User-Agent header to simulate a browser request\n",
        "    headers = {\n",
        "        'User-Agent': 'Mozilla/5.0 (Windows NT 10.0; Win64; x64) AppleWebKit/537.36 (KHTML, like Gecko) Chrome/58.0.3029.110 Safari/537.36'\n",
        "    }\n",
        "\n",
        "    # Call the get method in requests object, pass URL and headers, and collect it in res\n",
        "    res = requests.get(url, headers=headers)\n",
        "\n",
        "    # Ensure the request succeeded\n",
        "    res.raise_for_status()\n",
        "\n",
        "    # Parse the HTML content\n",
        "    soup = BeautifulSoup(res.text, 'html.parser')\n",
        "    return soup\n",
        "\n",
        "# Function to remove all HTML tags and replace some with specific strings\n",
        "def clean(text):\n",
        "    rep = {\"<br>\": \"\\n\", \"<br/>\": \"\\n\", \"<li>\": \"\\n\"}\n",
        "    rep = dict((re.escape(k), v) for k, v in rep.items())\n",
        "    pattern = re.compile(\"|\".join(rep.keys()))\n",
        "    text = pattern.sub(lambda m: rep[re.escape(m.group(0))], text)\n",
        "    text = re.sub(r'<.*?>', '', text)\n",
        "    return text\n",
        "\n",
        "def collect_text(soup):\n",
        "    text = f'URL: {url}\\n\\n'\n",
        "    para_text = soup.find_all('p')\n",
        "    print(f\"Paragraphs text = \\n {para_text}\")\n",
        "    for para in para_text:\n",
        "        text += f\"{para.get_text()}\\n\\n\"\n",
        "    return text\n",
        "\n",
        "# Function to save the file in the current directory\n",
        "def save_file(text):\n",
        "    if not os.path.exists('./scraped_articles'):\n",
        "        os.mkdir('./scraped_articles')\n",
        "    name = url.split(\"/\")[-1]\n",
        "    fname = f'scraped_articles/{name}.txt'\n",
        "\n",
        "    # Write a file using with\n",
        "    with open(fname, 'w', encoding='utf-8') as f:\n",
        "        f.write(text)\n",
        "\n",
        "    print(f'File saved in directory {fname}')\n",
        "\n",
        "# Ensure the script is run directly\n",
        "if __name__ == '__main__':\n",
        "    text = collect_text(get_page())\n",
        "    save_file(text)"
      ]
    }
  ]
}